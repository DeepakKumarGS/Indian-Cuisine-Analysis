{
 "cells": [
  {
   "cell_type": "markdown",
   "metadata": {},
   "source": [
    "## Indian Food Exploration"
   ]
  },
  {
   "cell_type": "markdown",
   "metadata": {},
   "source": [
    "In this short analysis,I have tried to explore on Indian cusines , tastes , ingredients , flavors of various dishes provided in this dataset."
   ]
  },
  {
   "cell_type": "markdown",
   "metadata": {},
   "source": [
    "## Reading the dataset"
   ]
  },
  {
   "cell_type": "code",
   "execution_count": 20,
   "metadata": {},
   "outputs": [],
   "source": [
    "import pandas as pd\n",
    "import numpy as np\n",
    "import matplotlib.pyplot as plt\n",
    "import seaborn as sns\n",
    "import warnings\n",
    "warnings.filterwarnings('ignore')\n",
    "from collections import Counter\n",
    "%matplotlib inline"
   ]
  },
  {
   "cell_type": "code",
   "execution_count": 2,
   "metadata": {},
   "outputs": [],
   "source": [
    "#data=pd.read_csv(\"../input/indian-food-101/indian_food.csv\")\n",
    "data=pd.read_csv(\"../data/indian_food.csv\")"
   ]
  },
  {
   "cell_type": "code",
   "execution_count": 3,
   "metadata": {},
   "outputs": [
    {
     "data": {
      "text/html": [
       "<div>\n",
       "<style scoped>\n",
       "    .dataframe tbody tr th:only-of-type {\n",
       "        vertical-align: middle;\n",
       "    }\n",
       "\n",
       "    .dataframe tbody tr th {\n",
       "        vertical-align: top;\n",
       "    }\n",
       "\n",
       "    .dataframe thead th {\n",
       "        text-align: right;\n",
       "    }\n",
       "</style>\n",
       "<table border=\"1\" class=\"dataframe\">\n",
       "  <thead>\n",
       "    <tr style=\"text-align: right;\">\n",
       "      <th></th>\n",
       "      <th>name</th>\n",
       "      <th>ingredients</th>\n",
       "      <th>diet</th>\n",
       "      <th>prep_time</th>\n",
       "      <th>cook_time</th>\n",
       "      <th>flavor_profile</th>\n",
       "      <th>course</th>\n",
       "      <th>state</th>\n",
       "      <th>region</th>\n",
       "    </tr>\n",
       "  </thead>\n",
       "  <tbody>\n",
       "    <tr>\n",
       "      <th>0</th>\n",
       "      <td>Balu shahi</td>\n",
       "      <td>Maida flour, yogurt, oil, sugar</td>\n",
       "      <td>vegetarian</td>\n",
       "      <td>45</td>\n",
       "      <td>25</td>\n",
       "      <td>sweet</td>\n",
       "      <td>dessert</td>\n",
       "      <td>West Bengal</td>\n",
       "      <td>East</td>\n",
       "    </tr>\n",
       "    <tr>\n",
       "      <th>1</th>\n",
       "      <td>Boondi</td>\n",
       "      <td>Gram flour, ghee, sugar</td>\n",
       "      <td>vegetarian</td>\n",
       "      <td>80</td>\n",
       "      <td>30</td>\n",
       "      <td>sweet</td>\n",
       "      <td>dessert</td>\n",
       "      <td>Rajasthan</td>\n",
       "      <td>West</td>\n",
       "    </tr>\n",
       "    <tr>\n",
       "      <th>2</th>\n",
       "      <td>Gajar ka halwa</td>\n",
       "      <td>Carrots, milk, sugar, ghee, cashews, raisins</td>\n",
       "      <td>vegetarian</td>\n",
       "      <td>15</td>\n",
       "      <td>60</td>\n",
       "      <td>sweet</td>\n",
       "      <td>dessert</td>\n",
       "      <td>Punjab</td>\n",
       "      <td>North</td>\n",
       "    </tr>\n",
       "    <tr>\n",
       "      <th>3</th>\n",
       "      <td>Ghevar</td>\n",
       "      <td>Flour, ghee, kewra, milk, clarified butter, su...</td>\n",
       "      <td>vegetarian</td>\n",
       "      <td>15</td>\n",
       "      <td>30</td>\n",
       "      <td>sweet</td>\n",
       "      <td>dessert</td>\n",
       "      <td>Rajasthan</td>\n",
       "      <td>West</td>\n",
       "    </tr>\n",
       "    <tr>\n",
       "      <th>4</th>\n",
       "      <td>Gulab jamun</td>\n",
       "      <td>Milk powder, plain flour, baking powder, ghee,...</td>\n",
       "      <td>vegetarian</td>\n",
       "      <td>15</td>\n",
       "      <td>40</td>\n",
       "      <td>sweet</td>\n",
       "      <td>dessert</td>\n",
       "      <td>West Bengal</td>\n",
       "      <td>East</td>\n",
       "    </tr>\n",
       "  </tbody>\n",
       "</table>\n",
       "</div>"
      ],
      "text/plain": [
       "             name                                        ingredients  \\\n",
       "0      Balu shahi                    Maida flour, yogurt, oil, sugar   \n",
       "1          Boondi                            Gram flour, ghee, sugar   \n",
       "2  Gajar ka halwa       Carrots, milk, sugar, ghee, cashews, raisins   \n",
       "3          Ghevar  Flour, ghee, kewra, milk, clarified butter, su...   \n",
       "4     Gulab jamun  Milk powder, plain flour, baking powder, ghee,...   \n",
       "\n",
       "         diet  prep_time  cook_time flavor_profile   course        state  \\\n",
       "0  vegetarian         45         25          sweet  dessert  West Bengal   \n",
       "1  vegetarian         80         30          sweet  dessert    Rajasthan   \n",
       "2  vegetarian         15         60          sweet  dessert       Punjab   \n",
       "3  vegetarian         15         30          sweet  dessert    Rajasthan   \n",
       "4  vegetarian         15         40          sweet  dessert  West Bengal   \n",
       "\n",
       "  region  \n",
       "0   East  \n",
       "1   West  \n",
       "2  North  \n",
       "3   West  \n",
       "4   East  "
      ]
     },
     "execution_count": 3,
     "metadata": {},
     "output_type": "execute_result"
    }
   ],
   "source": [
    "data.head()"
   ]
  },
  {
   "cell_type": "markdown",
   "metadata": {},
   "source": [
    "## Data Cleaning and handling missing values"
   ]
  },
  {
   "cell_type": "code",
   "execution_count": 4,
   "metadata": {},
   "outputs": [
    {
     "name": "stdout",
     "output_type": "stream",
     "text": [
      "Total Missing values in column name is 0\n",
      "Total Missing values in column ingredients is 0\n",
      "Total Missing values in column diet is 0\n",
      "Total Missing values in column prep_time is 0\n",
      "Total Missing values in column cook_time is 0\n",
      "Total Missing values in column flavor_profile is 29\n",
      "Total Missing values in column course is 0\n",
      "Total Missing values in column state is 24\n",
      "Total Missing values in column region is 13\n"
     ]
    }
   ],
   "source": [
    "## Check for nulls,\n",
    "##since in the data description it is mentioned that missing values are indicated with -1,\n",
    "for c in data.columns:\n",
    "    print(f'''Total Missing values in column {c} is {len(data[data[c]=='-1'])}''')"
   ]
  },
  {
   "cell_type": "markdown",
   "metadata": {},
   "source": [
    "flavor_profile,state and region have -1 in them.Are there any other missing values?"
   ]
  },
  {
   "cell_type": "code",
   "execution_count": 9,
   "metadata": {},
   "outputs": [
    {
     "data": {
      "text/plain": [
       "name              0\n",
       "ingredients       0\n",
       "diet              0\n",
       "prep_time         0\n",
       "cook_time         0\n",
       "flavor_profile    0\n",
       "course            0\n",
       "state             0\n",
       "region            1\n",
       "dtype: int64"
      ]
     },
     "execution_count": 9,
     "metadata": {},
     "output_type": "execute_result"
    }
   ],
   "source": [
    "data.isna().sum()"
   ]
  },
  {
   "cell_type": "markdown",
   "metadata": {},
   "source": [
    "Region has one blank.Lets check it and see if we can input it by ourselves."
   ]
  },
  {
   "cell_type": "code",
   "execution_count": 16,
   "metadata": {},
   "outputs": [
    {
     "data": {
      "text/html": [
       "<div>\n",
       "<style scoped>\n",
       "    .dataframe tbody tr th:only-of-type {\n",
       "        vertical-align: middle;\n",
       "    }\n",
       "\n",
       "    .dataframe tbody tr th {\n",
       "        vertical-align: top;\n",
       "    }\n",
       "\n",
       "    .dataframe thead th {\n",
       "        text-align: right;\n",
       "    }\n",
       "</style>\n",
       "<table border=\"1\" class=\"dataframe\">\n",
       "  <thead>\n",
       "    <tr style=\"text-align: right;\">\n",
       "      <th></th>\n",
       "      <th>name</th>\n",
       "      <th>ingredients</th>\n",
       "      <th>diet</th>\n",
       "      <th>prep_time</th>\n",
       "      <th>cook_time</th>\n",
       "      <th>flavor_profile</th>\n",
       "      <th>course</th>\n",
       "      <th>state</th>\n",
       "      <th>region</th>\n",
       "    </tr>\n",
       "  </thead>\n",
       "  <tbody>\n",
       "  </tbody>\n",
       "</table>\n",
       "</div>"
      ],
      "text/plain": [
       "Empty DataFrame\n",
       "Columns: [name, ingredients, diet, prep_time, cook_time, flavor_profile, course, state, region]\n",
       "Index: []"
      ]
     },
     "execution_count": 16,
     "metadata": {},
     "output_type": "execute_result"
    }
   ],
   "source": [
    "data[data['region'].isna()]"
   ]
  },
  {
   "cell_type": "markdown",
   "metadata": {},
   "source": [
    "The state is mentioned as Uttar Pradesh and hence we can provide region as North."
   ]
  },
  {
   "cell_type": "code",
   "execution_count": 5,
   "metadata": {},
   "outputs": [],
   "source": [
    "data.loc[data['region'].isna(),'region']='North'"
   ]
  },
  {
   "cell_type": "markdown",
   "metadata": {},
   "source": [
    "Lets see if we could inpute missing values for the other rows as well (rows with -1)."
   ]
  },
  {
   "cell_type": "code",
   "execution_count": 17,
   "metadata": {},
   "outputs": [
    {
     "data": {
      "text/html": [
       "<div>\n",
       "<style scoped>\n",
       "    .dataframe tbody tr th:only-of-type {\n",
       "        vertical-align: middle;\n",
       "    }\n",
       "\n",
       "    .dataframe tbody tr th {\n",
       "        vertical-align: top;\n",
       "    }\n",
       "\n",
       "    .dataframe thead th {\n",
       "        text-align: right;\n",
       "    }\n",
       "</style>\n",
       "<table border=\"1\" class=\"dataframe\">\n",
       "  <thead>\n",
       "    <tr style=\"text-align: right;\">\n",
       "      <th></th>\n",
       "      <th>name</th>\n",
       "      <th>ingredients</th>\n",
       "      <th>diet</th>\n",
       "      <th>prep_time</th>\n",
       "      <th>cook_time</th>\n",
       "      <th>flavor_profile</th>\n",
       "      <th>course</th>\n",
       "      <th>state</th>\n",
       "      <th>region</th>\n",
       "    </tr>\n",
       "  </thead>\n",
       "  <tbody>\n",
       "    <tr>\n",
       "      <th>7</th>\n",
       "      <td>Kaju katli</td>\n",
       "      <td>Cashews, ghee, cardamom, sugar</td>\n",
       "      <td>vegetarian</td>\n",
       "      <td>10</td>\n",
       "      <td>20</td>\n",
       "      <td>sweet</td>\n",
       "      <td>dessert</td>\n",
       "      <td>-1</td>\n",
       "      <td>-1</td>\n",
       "    </tr>\n",
       "    <tr>\n",
       "      <th>9</th>\n",
       "      <td>Kheer</td>\n",
       "      <td>Milk, rice, sugar, dried fruits</td>\n",
       "      <td>vegetarian</td>\n",
       "      <td>10</td>\n",
       "      <td>40</td>\n",
       "      <td>sweet</td>\n",
       "      <td>dessert</td>\n",
       "      <td>-1</td>\n",
       "      <td>-1</td>\n",
       "    </tr>\n",
       "    <tr>\n",
       "      <th>10</th>\n",
       "      <td>Laddu</td>\n",
       "      <td>Gram flour, ghee, sugar</td>\n",
       "      <td>vegetarian</td>\n",
       "      <td>10</td>\n",
       "      <td>40</td>\n",
       "      <td>sweet</td>\n",
       "      <td>dessert</td>\n",
       "      <td>-1</td>\n",
       "      <td>-1</td>\n",
       "    </tr>\n",
       "    <tr>\n",
       "      <th>12</th>\n",
       "      <td>Nankhatai</td>\n",
       "      <td>Refined flour, besan, ghee, powdered sugar, yo...</td>\n",
       "      <td>vegetarian</td>\n",
       "      <td>20</td>\n",
       "      <td>30</td>\n",
       "      <td>sweet</td>\n",
       "      <td>dessert</td>\n",
       "      <td>-1</td>\n",
       "      <td>-1</td>\n",
       "    </tr>\n",
       "    <tr>\n",
       "      <th>94</th>\n",
       "      <td>Khichdi</td>\n",
       "      <td>Moong dal, green peas, ginger, tomato, green c...</td>\n",
       "      <td>vegetarian</td>\n",
       "      <td>40</td>\n",
       "      <td>20</td>\n",
       "      <td>spicy</td>\n",
       "      <td>main course</td>\n",
       "      <td>-1</td>\n",
       "      <td>-1</td>\n",
       "    </tr>\n",
       "    <tr>\n",
       "      <th>96</th>\n",
       "      <td>Kulfi falooda</td>\n",
       "      <td>Rose syrup, falooda sev, mixed nuts, saffron, ...</td>\n",
       "      <td>vegetarian</td>\n",
       "      <td>45</td>\n",
       "      <td>25</td>\n",
       "      <td>sweet</td>\n",
       "      <td>dessert</td>\n",
       "      <td>-1</td>\n",
       "      <td>-1</td>\n",
       "    </tr>\n",
       "    <tr>\n",
       "      <th>98</th>\n",
       "      <td>Lauki ki subji</td>\n",
       "      <td>Bottle gourd, coconut oil, garam masala, ginge...</td>\n",
       "      <td>vegetarian</td>\n",
       "      <td>10</td>\n",
       "      <td>20</td>\n",
       "      <td>spicy</td>\n",
       "      <td>main course</td>\n",
       "      <td>-1</td>\n",
       "      <td>-1</td>\n",
       "    </tr>\n",
       "    <tr>\n",
       "      <th>109</th>\n",
       "      <td>Pani puri</td>\n",
       "      <td>Kala chana, mashed potato, boondi, sev, lemon</td>\n",
       "      <td>vegetarian</td>\n",
       "      <td>15</td>\n",
       "      <td>2</td>\n",
       "      <td>spicy</td>\n",
       "      <td>snack</td>\n",
       "      <td>-1</td>\n",
       "      <td>-1</td>\n",
       "    </tr>\n",
       "    <tr>\n",
       "      <th>111</th>\n",
       "      <td>Papad</td>\n",
       "      <td>Urad dal, sev, lemon juice, chopped tomatoes</td>\n",
       "      <td>vegetarian</td>\n",
       "      <td>5</td>\n",
       "      <td>5</td>\n",
       "      <td>spicy</td>\n",
       "      <td>snack</td>\n",
       "      <td>-1</td>\n",
       "      <td>-1</td>\n",
       "    </tr>\n",
       "    <tr>\n",
       "      <th>117</th>\n",
       "      <td>Samosa</td>\n",
       "      <td>Potatoes, green peas, garam masala, ginger, dough</td>\n",
       "      <td>vegetarian</td>\n",
       "      <td>30</td>\n",
       "      <td>30</td>\n",
       "      <td>spicy</td>\n",
       "      <td>snack</td>\n",
       "      <td>-1</td>\n",
       "      <td>-1</td>\n",
       "    </tr>\n",
       "    <tr>\n",
       "      <th>164</th>\n",
       "      <td>Upma</td>\n",
       "      <td>Chana dal, urad dal, ginger, curry leaves, sugar</td>\n",
       "      <td>vegetarian</td>\n",
       "      <td>10</td>\n",
       "      <td>20</td>\n",
       "      <td>spicy</td>\n",
       "      <td>snack</td>\n",
       "      <td>-1</td>\n",
       "      <td>-1</td>\n",
       "    </tr>\n",
       "    <tr>\n",
       "      <th>231</th>\n",
       "      <td>Brown Rice</td>\n",
       "      <td>Brown rice, soy sauce, olive oil</td>\n",
       "      <td>vegetarian</td>\n",
       "      <td>15</td>\n",
       "      <td>25</td>\n",
       "      <td>-1</td>\n",
       "      <td>main course</td>\n",
       "      <td>-1</td>\n",
       "      <td>-1</td>\n",
       "    </tr>\n",
       "    <tr>\n",
       "      <th>248</th>\n",
       "      <td>Red Rice</td>\n",
       "      <td>Red pepper, red onion, butter, watercress, oli...</td>\n",
       "      <td>vegetarian</td>\n",
       "      <td>-1</td>\n",
       "      <td>-1</td>\n",
       "      <td>-1</td>\n",
       "      <td>main course</td>\n",
       "      <td>-1</td>\n",
       "      <td>-1</td>\n",
       "    </tr>\n",
       "  </tbody>\n",
       "</table>\n",
       "</div>"
      ],
      "text/plain": [
       "               name                                        ingredients  \\\n",
       "7        Kaju katli                     Cashews, ghee, cardamom, sugar   \n",
       "9             Kheer                    Milk, rice, sugar, dried fruits   \n",
       "10            Laddu                            Gram flour, ghee, sugar   \n",
       "12        Nankhatai  Refined flour, besan, ghee, powdered sugar, yo...   \n",
       "94          Khichdi  Moong dal, green peas, ginger, tomato, green c...   \n",
       "96    Kulfi falooda  Rose syrup, falooda sev, mixed nuts, saffron, ...   \n",
       "98   Lauki ki subji  Bottle gourd, coconut oil, garam masala, ginge...   \n",
       "109       Pani puri      Kala chana, mashed potato, boondi, sev, lemon   \n",
       "111           Papad       Urad dal, sev, lemon juice, chopped tomatoes   \n",
       "117          Samosa  Potatoes, green peas, garam masala, ginger, dough   \n",
       "164            Upma   Chana dal, urad dal, ginger, curry leaves, sugar   \n",
       "231      Brown Rice                   Brown rice, soy sauce, olive oil   \n",
       "248        Red Rice  Red pepper, red onion, butter, watercress, oli...   \n",
       "\n",
       "           diet  prep_time  cook_time flavor_profile       course state region  \n",
       "7    vegetarian         10         20          sweet      dessert    -1     -1  \n",
       "9    vegetarian         10         40          sweet      dessert    -1     -1  \n",
       "10   vegetarian         10         40          sweet      dessert    -1     -1  \n",
       "12   vegetarian         20         30          sweet      dessert    -1     -1  \n",
       "94   vegetarian         40         20          spicy  main course    -1     -1  \n",
       "96   vegetarian         45         25          sweet      dessert    -1     -1  \n",
       "98   vegetarian         10         20          spicy  main course    -1     -1  \n",
       "109  vegetarian         15          2          spicy        snack    -1     -1  \n",
       "111  vegetarian          5          5          spicy        snack    -1     -1  \n",
       "117  vegetarian         30         30          spicy        snack    -1     -1  \n",
       "164  vegetarian         10         20          spicy        snack    -1     -1  \n",
       "231  vegetarian         15         25             -1  main course    -1     -1  \n",
       "248  vegetarian         -1         -1             -1  main course    -1     -1  "
      ]
     },
     "execution_count": 17,
     "metadata": {},
     "output_type": "execute_result"
    }
   ],
   "source": [
    "data.loc[data['region']=='-1',]"
   ]
  },
  {
   "cell_type": "markdown",
   "metadata": {},
   "source": [
    "For the purpose of simplicity ,let us inpute  'All region' for these recipies."
   ]
  },
  {
   "cell_type": "code",
   "execution_count": 6,
   "metadata": {},
   "outputs": [],
   "source": [
    "data.loc[data['region']=='-1','region']='All region'"
   ]
  },
  {
   "cell_type": "markdown",
   "metadata": {},
   "source": [
    "Similarly for all state,"
   ]
  },
  {
   "cell_type": "code",
   "execution_count": 19,
   "metadata": {},
   "outputs": [
    {
     "data": {
      "text/html": [
       "<div>\n",
       "<style scoped>\n",
       "    .dataframe tbody tr th:only-of-type {\n",
       "        vertical-align: middle;\n",
       "    }\n",
       "\n",
       "    .dataframe tbody tr th {\n",
       "        vertical-align: top;\n",
       "    }\n",
       "\n",
       "    .dataframe thead th {\n",
       "        text-align: right;\n",
       "    }\n",
       "</style>\n",
       "<table border=\"1\" class=\"dataframe\">\n",
       "  <thead>\n",
       "    <tr style=\"text-align: right;\">\n",
       "      <th></th>\n",
       "      <th>name</th>\n",
       "      <th>ingredients</th>\n",
       "      <th>diet</th>\n",
       "      <th>prep_time</th>\n",
       "      <th>cook_time</th>\n",
       "      <th>flavor_profile</th>\n",
       "      <th>course</th>\n",
       "      <th>state</th>\n",
       "      <th>region</th>\n",
       "    </tr>\n",
       "  </thead>\n",
       "  <tbody>\n",
       "    <tr>\n",
       "      <th>7</th>\n",
       "      <td>Kaju katli</td>\n",
       "      <td>Cashews, ghee, cardamom, sugar</td>\n",
       "      <td>vegetarian</td>\n",
       "      <td>10</td>\n",
       "      <td>20</td>\n",
       "      <td>sweet</td>\n",
       "      <td>dessert</td>\n",
       "      <td>-1</td>\n",
       "      <td>All region</td>\n",
       "    </tr>\n",
       "    <tr>\n",
       "      <th>9</th>\n",
       "      <td>Kheer</td>\n",
       "      <td>Milk, rice, sugar, dried fruits</td>\n",
       "      <td>vegetarian</td>\n",
       "      <td>10</td>\n",
       "      <td>40</td>\n",
       "      <td>sweet</td>\n",
       "      <td>dessert</td>\n",
       "      <td>-1</td>\n",
       "      <td>All region</td>\n",
       "    </tr>\n",
       "    <tr>\n",
       "      <th>10</th>\n",
       "      <td>Laddu</td>\n",
       "      <td>Gram flour, ghee, sugar</td>\n",
       "      <td>vegetarian</td>\n",
       "      <td>10</td>\n",
       "      <td>40</td>\n",
       "      <td>sweet</td>\n",
       "      <td>dessert</td>\n",
       "      <td>-1</td>\n",
       "      <td>All region</td>\n",
       "    </tr>\n",
       "    <tr>\n",
       "      <th>12</th>\n",
       "      <td>Nankhatai</td>\n",
       "      <td>Refined flour, besan, ghee, powdered sugar, yo...</td>\n",
       "      <td>vegetarian</td>\n",
       "      <td>20</td>\n",
       "      <td>30</td>\n",
       "      <td>sweet</td>\n",
       "      <td>dessert</td>\n",
       "      <td>-1</td>\n",
       "      <td>All region</td>\n",
       "    </tr>\n",
       "    <tr>\n",
       "      <th>94</th>\n",
       "      <td>Khichdi</td>\n",
       "      <td>Moong dal, green peas, ginger, tomato, green c...</td>\n",
       "      <td>vegetarian</td>\n",
       "      <td>40</td>\n",
       "      <td>20</td>\n",
       "      <td>spicy</td>\n",
       "      <td>main course</td>\n",
       "      <td>-1</td>\n",
       "      <td>All region</td>\n",
       "    </tr>\n",
       "    <tr>\n",
       "      <th>96</th>\n",
       "      <td>Kulfi falooda</td>\n",
       "      <td>Rose syrup, falooda sev, mixed nuts, saffron, ...</td>\n",
       "      <td>vegetarian</td>\n",
       "      <td>45</td>\n",
       "      <td>25</td>\n",
       "      <td>sweet</td>\n",
       "      <td>dessert</td>\n",
       "      <td>-1</td>\n",
       "      <td>All region</td>\n",
       "    </tr>\n",
       "    <tr>\n",
       "      <th>98</th>\n",
       "      <td>Lauki ki subji</td>\n",
       "      <td>Bottle gourd, coconut oil, garam masala, ginge...</td>\n",
       "      <td>vegetarian</td>\n",
       "      <td>10</td>\n",
       "      <td>20</td>\n",
       "      <td>spicy</td>\n",
       "      <td>main course</td>\n",
       "      <td>-1</td>\n",
       "      <td>All region</td>\n",
       "    </tr>\n",
       "    <tr>\n",
       "      <th>109</th>\n",
       "      <td>Pani puri</td>\n",
       "      <td>Kala chana, mashed potato, boondi, sev, lemon</td>\n",
       "      <td>vegetarian</td>\n",
       "      <td>15</td>\n",
       "      <td>2</td>\n",
       "      <td>spicy</td>\n",
       "      <td>snack</td>\n",
       "      <td>-1</td>\n",
       "      <td>All region</td>\n",
       "    </tr>\n",
       "    <tr>\n",
       "      <th>111</th>\n",
       "      <td>Papad</td>\n",
       "      <td>Urad dal, sev, lemon juice, chopped tomatoes</td>\n",
       "      <td>vegetarian</td>\n",
       "      <td>5</td>\n",
       "      <td>5</td>\n",
       "      <td>spicy</td>\n",
       "      <td>snack</td>\n",
       "      <td>-1</td>\n",
       "      <td>All region</td>\n",
       "    </tr>\n",
       "    <tr>\n",
       "      <th>115</th>\n",
       "      <td>Rajma chaval</td>\n",
       "      <td>Red kidney beans, garam masala powder, ginger,...</td>\n",
       "      <td>vegetarian</td>\n",
       "      <td>15</td>\n",
       "      <td>90</td>\n",
       "      <td>spicy</td>\n",
       "      <td>main course</td>\n",
       "      <td>-1</td>\n",
       "      <td>North</td>\n",
       "    </tr>\n",
       "    <tr>\n",
       "      <th>117</th>\n",
       "      <td>Samosa</td>\n",
       "      <td>Potatoes, green peas, garam masala, ginger, dough</td>\n",
       "      <td>vegetarian</td>\n",
       "      <td>30</td>\n",
       "      <td>30</td>\n",
       "      <td>spicy</td>\n",
       "      <td>snack</td>\n",
       "      <td>-1</td>\n",
       "      <td>All region</td>\n",
       "    </tr>\n",
       "    <tr>\n",
       "      <th>128</th>\n",
       "      <td>Dosa</td>\n",
       "      <td>Chana dal, urad dal, whole urad dal, blend ric...</td>\n",
       "      <td>vegetarian</td>\n",
       "      <td>360</td>\n",
       "      <td>90</td>\n",
       "      <td>spicy</td>\n",
       "      <td>snack</td>\n",
       "      <td>-1</td>\n",
       "      <td>South</td>\n",
       "    </tr>\n",
       "    <tr>\n",
       "      <th>130</th>\n",
       "      <td>Idli</td>\n",
       "      <td>Split urad dal, urad dal, idli rice, thick poh...</td>\n",
       "      <td>vegetarian</td>\n",
       "      <td>360</td>\n",
       "      <td>90</td>\n",
       "      <td>spicy</td>\n",
       "      <td>snack</td>\n",
       "      <td>-1</td>\n",
       "      <td>South</td>\n",
       "    </tr>\n",
       "    <tr>\n",
       "      <th>144</th>\n",
       "      <td>Masala Dosa</td>\n",
       "      <td>Chana dal, urad dal, potatoes, idli rice, thic...</td>\n",
       "      <td>vegetarian</td>\n",
       "      <td>360</td>\n",
       "      <td>90</td>\n",
       "      <td>spicy</td>\n",
       "      <td>snack</td>\n",
       "      <td>-1</td>\n",
       "      <td>South</td>\n",
       "    </tr>\n",
       "    <tr>\n",
       "      <th>145</th>\n",
       "      <td>Pachadi</td>\n",
       "      <td>Coconut oil, cucumber, curd, curry leaves, mus...</td>\n",
       "      <td>vegetarian</td>\n",
       "      <td>10</td>\n",
       "      <td>25</td>\n",
       "      <td>-1</td>\n",
       "      <td>main course</td>\n",
       "      <td>-1</td>\n",
       "      <td>South</td>\n",
       "    </tr>\n",
       "    <tr>\n",
       "      <th>149</th>\n",
       "      <td>Payasam</td>\n",
       "      <td>Rice, cashew nuts, milk, raisins, sugar</td>\n",
       "      <td>vegetarian</td>\n",
       "      <td>15</td>\n",
       "      <td>30</td>\n",
       "      <td>sweet</td>\n",
       "      <td>dessert</td>\n",
       "      <td>-1</td>\n",
       "      <td>South</td>\n",
       "    </tr>\n",
       "    <tr>\n",
       "      <th>154</th>\n",
       "      <td>Rasam</td>\n",
       "      <td>Tomato, curry leaves, garlic, mustard seeds, h...</td>\n",
       "      <td>vegetarian</td>\n",
       "      <td>10</td>\n",
       "      <td>35</td>\n",
       "      <td>spicy</td>\n",
       "      <td>main course</td>\n",
       "      <td>-1</td>\n",
       "      <td>South</td>\n",
       "    </tr>\n",
       "    <tr>\n",
       "      <th>156</th>\n",
       "      <td>Sambar</td>\n",
       "      <td>Pigeon peas, eggplant, drumsticks, sambar powd...</td>\n",
       "      <td>vegetarian</td>\n",
       "      <td>20</td>\n",
       "      <td>45</td>\n",
       "      <td>spicy</td>\n",
       "      <td>main course</td>\n",
       "      <td>-1</td>\n",
       "      <td>South</td>\n",
       "    </tr>\n",
       "    <tr>\n",
       "      <th>158</th>\n",
       "      <td>Sevai</td>\n",
       "      <td>Sevai, parboiled rice, steamer</td>\n",
       "      <td>vegetarian</td>\n",
       "      <td>120</td>\n",
       "      <td>30</td>\n",
       "      <td>-1</td>\n",
       "      <td>main course</td>\n",
       "      <td>-1</td>\n",
       "      <td>South</td>\n",
       "    </tr>\n",
       "    <tr>\n",
       "      <th>161</th>\n",
       "      <td>Uttapam</td>\n",
       "      <td>Chana dal, urad dal, thick poha, tomato, butter</td>\n",
       "      <td>vegetarian</td>\n",
       "      <td>10</td>\n",
       "      <td>20</td>\n",
       "      <td>spicy</td>\n",
       "      <td>snack</td>\n",
       "      <td>-1</td>\n",
       "      <td>South</td>\n",
       "    </tr>\n",
       "    <tr>\n",
       "      <th>162</th>\n",
       "      <td>Vada</td>\n",
       "      <td>Urad dal, ginger, curry leaves, green chilies,...</td>\n",
       "      <td>vegetarian</td>\n",
       "      <td>15</td>\n",
       "      <td>20</td>\n",
       "      <td>spicy</td>\n",
       "      <td>snack</td>\n",
       "      <td>-1</td>\n",
       "      <td>South</td>\n",
       "    </tr>\n",
       "    <tr>\n",
       "      <th>164</th>\n",
       "      <td>Upma</td>\n",
       "      <td>Chana dal, urad dal, ginger, curry leaves, sugar</td>\n",
       "      <td>vegetarian</td>\n",
       "      <td>10</td>\n",
       "      <td>20</td>\n",
       "      <td>spicy</td>\n",
       "      <td>snack</td>\n",
       "      <td>-1</td>\n",
       "      <td>All region</td>\n",
       "    </tr>\n",
       "    <tr>\n",
       "      <th>231</th>\n",
       "      <td>Brown Rice</td>\n",
       "      <td>Brown rice, soy sauce, olive oil</td>\n",
       "      <td>vegetarian</td>\n",
       "      <td>15</td>\n",
       "      <td>25</td>\n",
       "      <td>-1</td>\n",
       "      <td>main course</td>\n",
       "      <td>-1</td>\n",
       "      <td>All region</td>\n",
       "    </tr>\n",
       "    <tr>\n",
       "      <th>248</th>\n",
       "      <td>Red Rice</td>\n",
       "      <td>Red pepper, red onion, butter, watercress, oli...</td>\n",
       "      <td>vegetarian</td>\n",
       "      <td>-1</td>\n",
       "      <td>-1</td>\n",
       "      <td>-1</td>\n",
       "      <td>main course</td>\n",
       "      <td>-1</td>\n",
       "      <td>All region</td>\n",
       "    </tr>\n",
       "  </tbody>\n",
       "</table>\n",
       "</div>"
      ],
      "text/plain": [
       "               name                                        ingredients  \\\n",
       "7        Kaju katli                     Cashews, ghee, cardamom, sugar   \n",
       "9             Kheer                    Milk, rice, sugar, dried fruits   \n",
       "10            Laddu                            Gram flour, ghee, sugar   \n",
       "12        Nankhatai  Refined flour, besan, ghee, powdered sugar, yo...   \n",
       "94          Khichdi  Moong dal, green peas, ginger, tomato, green c...   \n",
       "96    Kulfi falooda  Rose syrup, falooda sev, mixed nuts, saffron, ...   \n",
       "98   Lauki ki subji  Bottle gourd, coconut oil, garam masala, ginge...   \n",
       "109       Pani puri      Kala chana, mashed potato, boondi, sev, lemon   \n",
       "111           Papad       Urad dal, sev, lemon juice, chopped tomatoes   \n",
       "115    Rajma chaval  Red kidney beans, garam masala powder, ginger,...   \n",
       "117          Samosa  Potatoes, green peas, garam masala, ginger, dough   \n",
       "128            Dosa  Chana dal, urad dal, whole urad dal, blend ric...   \n",
       "130            Idli  Split urad dal, urad dal, idli rice, thick poh...   \n",
       "144     Masala Dosa  Chana dal, urad dal, potatoes, idli rice, thic...   \n",
       "145         Pachadi  Coconut oil, cucumber, curd, curry leaves, mus...   \n",
       "149         Payasam            Rice, cashew nuts, milk, raisins, sugar   \n",
       "154           Rasam  Tomato, curry leaves, garlic, mustard seeds, h...   \n",
       "156          Sambar  Pigeon peas, eggplant, drumsticks, sambar powd...   \n",
       "158           Sevai                     Sevai, parboiled rice, steamer   \n",
       "161         Uttapam    Chana dal, urad dal, thick poha, tomato, butter   \n",
       "162            Vada  Urad dal, ginger, curry leaves, green chilies,...   \n",
       "164            Upma   Chana dal, urad dal, ginger, curry leaves, sugar   \n",
       "231      Brown Rice                   Brown rice, soy sauce, olive oil   \n",
       "248        Red Rice  Red pepper, red onion, butter, watercress, oli...   \n",
       "\n",
       "           diet  prep_time  cook_time flavor_profile       course state  \\\n",
       "7    vegetarian         10         20          sweet      dessert    -1   \n",
       "9    vegetarian         10         40          sweet      dessert    -1   \n",
       "10   vegetarian         10         40          sweet      dessert    -1   \n",
       "12   vegetarian         20         30          sweet      dessert    -1   \n",
       "94   vegetarian         40         20          spicy  main course    -1   \n",
       "96   vegetarian         45         25          sweet      dessert    -1   \n",
       "98   vegetarian         10         20          spicy  main course    -1   \n",
       "109  vegetarian         15          2          spicy        snack    -1   \n",
       "111  vegetarian          5          5          spicy        snack    -1   \n",
       "115  vegetarian         15         90          spicy  main course    -1   \n",
       "117  vegetarian         30         30          spicy        snack    -1   \n",
       "128  vegetarian        360         90          spicy        snack    -1   \n",
       "130  vegetarian        360         90          spicy        snack    -1   \n",
       "144  vegetarian        360         90          spicy        snack    -1   \n",
       "145  vegetarian         10         25             -1  main course    -1   \n",
       "149  vegetarian         15         30          sweet      dessert    -1   \n",
       "154  vegetarian         10         35          spicy  main course    -1   \n",
       "156  vegetarian         20         45          spicy  main course    -1   \n",
       "158  vegetarian        120         30             -1  main course    -1   \n",
       "161  vegetarian         10         20          spicy        snack    -1   \n",
       "162  vegetarian         15         20          spicy        snack    -1   \n",
       "164  vegetarian         10         20          spicy        snack    -1   \n",
       "231  vegetarian         15         25             -1  main course    -1   \n",
       "248  vegetarian         -1         -1             -1  main course    -1   \n",
       "\n",
       "         region  \n",
       "7    All region  \n",
       "9    All region  \n",
       "10   All region  \n",
       "12   All region  \n",
       "94   All region  \n",
       "96   All region  \n",
       "98   All region  \n",
       "109  All region  \n",
       "111  All region  \n",
       "115       North  \n",
       "117  All region  \n",
       "128       South  \n",
       "130       South  \n",
       "144       South  \n",
       "145       South  \n",
       "149       South  \n",
       "154       South  \n",
       "156       South  \n",
       "158       South  \n",
       "161       South  \n",
       "162       South  \n",
       "164  All region  \n",
       "231  All region  \n",
       "248  All region  "
      ]
     },
     "execution_count": 19,
     "metadata": {},
     "output_type": "execute_result"
    }
   ],
   "source": [
    "##state column,\n",
    "data.loc[data['state']=='-1']"
   ]
  },
  {
   "cell_type": "code",
   "execution_count": 7,
   "metadata": {},
   "outputs": [],
   "source": [
    "data.loc[data['state']=='-1','state']='All States'"
   ]
  },
  {
   "cell_type": "markdown",
   "metadata": {},
   "source": [
    "Lets check for flavor profile,"
   ]
  },
  {
   "cell_type": "code",
   "execution_count": 21,
   "metadata": {},
   "outputs": [
    {
     "data": {
      "text/html": [
       "<div>\n",
       "<style scoped>\n",
       "    .dataframe tbody tr th:only-of-type {\n",
       "        vertical-align: middle;\n",
       "    }\n",
       "\n",
       "    .dataframe tbody tr th {\n",
       "        vertical-align: top;\n",
       "    }\n",
       "\n",
       "    .dataframe thead th {\n",
       "        text-align: right;\n",
       "    }\n",
       "</style>\n",
       "<table border=\"1\" class=\"dataframe\">\n",
       "  <thead>\n",
       "    <tr style=\"text-align: right;\">\n",
       "      <th></th>\n",
       "      <th>name</th>\n",
       "      <th>ingredients</th>\n",
       "      <th>diet</th>\n",
       "      <th>prep_time</th>\n",
       "      <th>cook_time</th>\n",
       "      <th>flavor_profile</th>\n",
       "      <th>course</th>\n",
       "      <th>state</th>\n",
       "      <th>region</th>\n",
       "    </tr>\n",
       "  </thead>\n",
       "  <tbody>\n",
       "    <tr>\n",
       "      <th>78</th>\n",
       "      <td>Chapati</td>\n",
       "      <td>Whole wheat flour, olive oil, hot water, all p...</td>\n",
       "      <td>vegetarian</td>\n",
       "      <td>10</td>\n",
       "      <td>10</td>\n",
       "      <td>-1</td>\n",
       "      <td>main course</td>\n",
       "      <td>Maharashtra</td>\n",
       "      <td>West</td>\n",
       "    </tr>\n",
       "    <tr>\n",
       "      <th>104</th>\n",
       "      <td>Naan</td>\n",
       "      <td>Whole wheat flour, honey, butter, garlic</td>\n",
       "      <td>vegetarian</td>\n",
       "      <td>60</td>\n",
       "      <td>30</td>\n",
       "      <td>-1</td>\n",
       "      <td>main course</td>\n",
       "      <td>Punjab</td>\n",
       "      <td>North</td>\n",
       "    </tr>\n",
       "    <tr>\n",
       "      <th>116</th>\n",
       "      <td>Rongi</td>\n",
       "      <td>Garam masala powder, tomato, kasuri methi, cin...</td>\n",
       "      <td>vegetarian</td>\n",
       "      <td>10</td>\n",
       "      <td>30</td>\n",
       "      <td>-1</td>\n",
       "      <td>main course</td>\n",
       "      <td>Punjab</td>\n",
       "      <td>North</td>\n",
       "    </tr>\n",
       "    <tr>\n",
       "      <th>131</th>\n",
       "      <td>Kanji</td>\n",
       "      <td>Carrot, yellow mustard, red chilli, black salt</td>\n",
       "      <td>vegetarian</td>\n",
       "      <td>10</td>\n",
       "      <td>45</td>\n",
       "      <td>-1</td>\n",
       "      <td>snack</td>\n",
       "      <td>Kerala</td>\n",
       "      <td>South</td>\n",
       "    </tr>\n",
       "    <tr>\n",
       "      <th>145</th>\n",
       "      <td>Pachadi</td>\n",
       "      <td>Coconut oil, cucumber, curd, curry leaves, mus...</td>\n",
       "      <td>vegetarian</td>\n",
       "      <td>10</td>\n",
       "      <td>25</td>\n",
       "      <td>-1</td>\n",
       "      <td>main course</td>\n",
       "      <td>All States</td>\n",
       "      <td>South</td>\n",
       "    </tr>\n",
       "    <tr>\n",
       "      <th>146</th>\n",
       "      <td>Paniyaram</td>\n",
       "      <td>Yogurt, ginger, curry leaves, baking soda, gre...</td>\n",
       "      <td>vegetarian</td>\n",
       "      <td>10</td>\n",
       "      <td>20</td>\n",
       "      <td>-1</td>\n",
       "      <td>main course</td>\n",
       "      <td>Tamil Nadu</td>\n",
       "      <td>South</td>\n",
       "    </tr>\n",
       "    <tr>\n",
       "      <th>150</th>\n",
       "      <td>Paruppu sadam</td>\n",
       "      <td>Arhar dal, sambar powder, tomato, curry leaves...</td>\n",
       "      <td>vegetarian</td>\n",
       "      <td>10</td>\n",
       "      <td>20</td>\n",
       "      <td>-1</td>\n",
       "      <td>main course</td>\n",
       "      <td>Tamil Nadu</td>\n",
       "      <td>South</td>\n",
       "    </tr>\n",
       "    <tr>\n",
       "      <th>153</th>\n",
       "      <td>Puli sadam</td>\n",
       "      <td>Urad dal, lemon, tamarind, cooked rice, curry ...</td>\n",
       "      <td>vegetarian</td>\n",
       "      <td>10</td>\n",
       "      <td>20</td>\n",
       "      <td>-1</td>\n",
       "      <td>main course</td>\n",
       "      <td>Tamil Nadu</td>\n",
       "      <td>South</td>\n",
       "    </tr>\n",
       "    <tr>\n",
       "      <th>155</th>\n",
       "      <td>Puttu</td>\n",
       "      <td>Brown rice flour, sugar, grated coconut</td>\n",
       "      <td>vegetarian</td>\n",
       "      <td>495</td>\n",
       "      <td>40</td>\n",
       "      <td>-1</td>\n",
       "      <td>main course</td>\n",
       "      <td>Kerala</td>\n",
       "      <td>South</td>\n",
       "    </tr>\n",
       "    <tr>\n",
       "      <th>157</th>\n",
       "      <td>Sandige</td>\n",
       "      <td>Thin rice flakes, black sesame seeds, curry le...</td>\n",
       "      <td>vegetarian</td>\n",
       "      <td>120</td>\n",
       "      <td>60</td>\n",
       "      <td>-1</td>\n",
       "      <td>main course</td>\n",
       "      <td>Karnataka</td>\n",
       "      <td>South</td>\n",
       "    </tr>\n",
       "    <tr>\n",
       "      <th>158</th>\n",
       "      <td>Sevai</td>\n",
       "      <td>Sevai, parboiled rice, steamer</td>\n",
       "      <td>vegetarian</td>\n",
       "      <td>120</td>\n",
       "      <td>30</td>\n",
       "      <td>-1</td>\n",
       "      <td>main course</td>\n",
       "      <td>All States</td>\n",
       "      <td>South</td>\n",
       "    </tr>\n",
       "    <tr>\n",
       "      <th>159</th>\n",
       "      <td>Thayir sadam</td>\n",
       "      <td>Urad dal, curd, sesame oil, ginger, curry leav...</td>\n",
       "      <td>vegetarian</td>\n",
       "      <td>10</td>\n",
       "      <td>20</td>\n",
       "      <td>-1</td>\n",
       "      <td>main course</td>\n",
       "      <td>Tamil Nadu</td>\n",
       "      <td>South</td>\n",
       "    </tr>\n",
       "    <tr>\n",
       "      <th>160</th>\n",
       "      <td>Theeyal</td>\n",
       "      <td>Coconut, whole red beans, masala, sesame oil, ...</td>\n",
       "      <td>vegetarian</td>\n",
       "      <td>15</td>\n",
       "      <td>20</td>\n",
       "      <td>-1</td>\n",
       "      <td>main course</td>\n",
       "      <td>Kerala</td>\n",
       "      <td>South</td>\n",
       "    </tr>\n",
       "    <tr>\n",
       "      <th>171</th>\n",
       "      <td>Bhakri</td>\n",
       "      <td>Jowar flour, sesame seeds</td>\n",
       "      <td>vegetarian</td>\n",
       "      <td>20</td>\n",
       "      <td>25</td>\n",
       "      <td>-1</td>\n",
       "      <td>main course</td>\n",
       "      <td>Maharashtra</td>\n",
       "      <td>West</td>\n",
       "    </tr>\n",
       "    <tr>\n",
       "      <th>176</th>\n",
       "      <td>Copra paak</td>\n",
       "      <td>Condensed milk, nestle cream, coconut ice, red...</td>\n",
       "      <td>vegetarian</td>\n",
       "      <td>20</td>\n",
       "      <td>30</td>\n",
       "      <td>-1</td>\n",
       "      <td>main course</td>\n",
       "      <td>Gujarat</td>\n",
       "      <td>West</td>\n",
       "    </tr>\n",
       "    <tr>\n",
       "      <th>179</th>\n",
       "      <td>Dahi vada</td>\n",
       "      <td>Urad dal, bhuna chana, garam masala, dates, ta...</td>\n",
       "      <td>vegetarian</td>\n",
       "      <td>30</td>\n",
       "      <td>30</td>\n",
       "      <td>-1</td>\n",
       "      <td>snack</td>\n",
       "      <td>Maharashtra</td>\n",
       "      <td>West</td>\n",
       "    </tr>\n",
       "    <tr>\n",
       "      <th>180</th>\n",
       "      <td>Dalithoy</td>\n",
       "      <td>Arhar dal, coconut oil, curry leaves, mustard ...</td>\n",
       "      <td>vegetarian</td>\n",
       "      <td>5</td>\n",
       "      <td>20</td>\n",
       "      <td>-1</td>\n",
       "      <td>main course</td>\n",
       "      <td>Maharashtra</td>\n",
       "      <td>West</td>\n",
       "    </tr>\n",
       "    <tr>\n",
       "      <th>189</th>\n",
       "      <td>Kansar</td>\n",
       "      <td>Wheat flour, cashews, rapeseed oil</td>\n",
       "      <td>vegetarian</td>\n",
       "      <td>10</td>\n",
       "      <td>40</td>\n",
       "      <td>-1</td>\n",
       "      <td>main course</td>\n",
       "      <td>Gujarat</td>\n",
       "      <td>West</td>\n",
       "    </tr>\n",
       "    <tr>\n",
       "      <th>216</th>\n",
       "      <td>Farsi Puri</td>\n",
       "      <td>Semolina, clarified butter, oil, white flour, ...</td>\n",
       "      <td>vegetarian</td>\n",
       "      <td>-1</td>\n",
       "      <td>-1</td>\n",
       "      <td>-1</td>\n",
       "      <td>snack</td>\n",
       "      <td>Gujarat</td>\n",
       "      <td>West</td>\n",
       "    </tr>\n",
       "    <tr>\n",
       "      <th>222</th>\n",
       "      <td>Khar</td>\n",
       "      <td>Raw papaya, panch phoran masala, nigella seeds...</td>\n",
       "      <td>vegetarian</td>\n",
       "      <td>10</td>\n",
       "      <td>20</td>\n",
       "      <td>-1</td>\n",
       "      <td>main course</td>\n",
       "      <td>Assam</td>\n",
       "      <td>North East</td>\n",
       "    </tr>\n",
       "    <tr>\n",
       "      <th>224</th>\n",
       "      <td>Luchi</td>\n",
       "      <td>Maida, vegetable oil</td>\n",
       "      <td>vegetarian</td>\n",
       "      <td>20</td>\n",
       "      <td>30</td>\n",
       "      <td>-1</td>\n",
       "      <td>main course</td>\n",
       "      <td>West Bengal</td>\n",
       "      <td>East</td>\n",
       "    </tr>\n",
       "    <tr>\n",
       "      <th>227</th>\n",
       "      <td>Bengena Pitika</td>\n",
       "      <td>Brinjal, onions, salt, sesame seeds, coriander</td>\n",
       "      <td>vegetarian</td>\n",
       "      <td>-1</td>\n",
       "      <td>-1</td>\n",
       "      <td>-1</td>\n",
       "      <td>main course</td>\n",
       "      <td>Assam</td>\n",
       "      <td>North East</td>\n",
       "    </tr>\n",
       "    <tr>\n",
       "      <th>228</th>\n",
       "      <td>Bilahi Maas</td>\n",
       "      <td>Potatoes, garam masala, tomatoes, mustard oil,...</td>\n",
       "      <td>non vegetarian</td>\n",
       "      <td>10</td>\n",
       "      <td>20</td>\n",
       "      <td>-1</td>\n",
       "      <td>main course</td>\n",
       "      <td>Assam</td>\n",
       "      <td>North East</td>\n",
       "    </tr>\n",
       "    <tr>\n",
       "      <th>229</th>\n",
       "      <td>Black rice</td>\n",
       "      <td>Forbidden black rice, chicken, olive oil, sliv...</td>\n",
       "      <td>non vegetarian</td>\n",
       "      <td>-1</td>\n",
       "      <td>-1</td>\n",
       "      <td>-1</td>\n",
       "      <td>main course</td>\n",
       "      <td>Manipur</td>\n",
       "      <td>North East</td>\n",
       "    </tr>\n",
       "    <tr>\n",
       "      <th>231</th>\n",
       "      <td>Brown Rice</td>\n",
       "      <td>Brown rice, soy sauce, olive oil</td>\n",
       "      <td>vegetarian</td>\n",
       "      <td>15</td>\n",
       "      <td>25</td>\n",
       "      <td>-1</td>\n",
       "      <td>main course</td>\n",
       "      <td>All States</td>\n",
       "      <td>All region</td>\n",
       "    </tr>\n",
       "    <tr>\n",
       "      <th>236</th>\n",
       "      <td>Chingri Bhape</td>\n",
       "      <td>Coconut, prawns, curd, mustard seed, green chili</td>\n",
       "      <td>non vegetarian</td>\n",
       "      <td>15</td>\n",
       "      <td>30</td>\n",
       "      <td>-1</td>\n",
       "      <td>main course</td>\n",
       "      <td>West Bengal</td>\n",
       "      <td>East</td>\n",
       "    </tr>\n",
       "    <tr>\n",
       "      <th>244</th>\n",
       "      <td>Pakhala</td>\n",
       "      <td>Curd, cooked rice, curry leaves, dry chilli</td>\n",
       "      <td>vegetarian</td>\n",
       "      <td>-1</td>\n",
       "      <td>-1</td>\n",
       "      <td>-1</td>\n",
       "      <td>main course</td>\n",
       "      <td>Odisha</td>\n",
       "      <td>East</td>\n",
       "    </tr>\n",
       "    <tr>\n",
       "      <th>245</th>\n",
       "      <td>Pani Pitha</td>\n",
       "      <td>Tea leaves, white sesame seeds, dry coconut, s...</td>\n",
       "      <td>vegetarian</td>\n",
       "      <td>10</td>\n",
       "      <td>20</td>\n",
       "      <td>-1</td>\n",
       "      <td>main course</td>\n",
       "      <td>Assam</td>\n",
       "      <td>North East</td>\n",
       "    </tr>\n",
       "    <tr>\n",
       "      <th>248</th>\n",
       "      <td>Red Rice</td>\n",
       "      <td>Red pepper, red onion, butter, watercress, oli...</td>\n",
       "      <td>vegetarian</td>\n",
       "      <td>-1</td>\n",
       "      <td>-1</td>\n",
       "      <td>-1</td>\n",
       "      <td>main course</td>\n",
       "      <td>All States</td>\n",
       "      <td>All region</td>\n",
       "    </tr>\n",
       "  </tbody>\n",
       "</table>\n",
       "</div>"
      ],
      "text/plain": [
       "               name                                        ingredients  \\\n",
       "78          Chapati  Whole wheat flour, olive oil, hot water, all p...   \n",
       "104            Naan           Whole wheat flour, honey, butter, garlic   \n",
       "116           Rongi  Garam masala powder, tomato, kasuri methi, cin...   \n",
       "131           Kanji     Carrot, yellow mustard, red chilli, black salt   \n",
       "145         Pachadi  Coconut oil, cucumber, curd, curry leaves, mus...   \n",
       "146       Paniyaram  Yogurt, ginger, curry leaves, baking soda, gre...   \n",
       "150   Paruppu sadam  Arhar dal, sambar powder, tomato, curry leaves...   \n",
       "153      Puli sadam  Urad dal, lemon, tamarind, cooked rice, curry ...   \n",
       "155           Puttu            Brown rice flour, sugar, grated coconut   \n",
       "157         Sandige  Thin rice flakes, black sesame seeds, curry le...   \n",
       "158           Sevai                     Sevai, parboiled rice, steamer   \n",
       "159    Thayir sadam  Urad dal, curd, sesame oil, ginger, curry leav...   \n",
       "160         Theeyal  Coconut, whole red beans, masala, sesame oil, ...   \n",
       "171          Bhakri                          Jowar flour, sesame seeds   \n",
       "176      Copra paak  Condensed milk, nestle cream, coconut ice, red...   \n",
       "179       Dahi vada  Urad dal, bhuna chana, garam masala, dates, ta...   \n",
       "180        Dalithoy  Arhar dal, coconut oil, curry leaves, mustard ...   \n",
       "189          Kansar                 Wheat flour, cashews, rapeseed oil   \n",
       "216      Farsi Puri  Semolina, clarified butter, oil, white flour, ...   \n",
       "222            Khar  Raw papaya, panch phoran masala, nigella seeds...   \n",
       "224           Luchi                               Maida, vegetable oil   \n",
       "227  Bengena Pitika     Brinjal, onions, salt, sesame seeds, coriander   \n",
       "228     Bilahi Maas  Potatoes, garam masala, tomatoes, mustard oil,...   \n",
       "229      Black rice  Forbidden black rice, chicken, olive oil, sliv...   \n",
       "231      Brown Rice                   Brown rice, soy sauce, olive oil   \n",
       "236   Chingri Bhape   Coconut, prawns, curd, mustard seed, green chili   \n",
       "244         Pakhala        Curd, cooked rice, curry leaves, dry chilli   \n",
       "245      Pani Pitha  Tea leaves, white sesame seeds, dry coconut, s...   \n",
       "248        Red Rice  Red pepper, red onion, butter, watercress, oli...   \n",
       "\n",
       "               diet  prep_time  cook_time flavor_profile       course  \\\n",
       "78       vegetarian         10         10             -1  main course   \n",
       "104      vegetarian         60         30             -1  main course   \n",
       "116      vegetarian         10         30             -1  main course   \n",
       "131      vegetarian         10         45             -1        snack   \n",
       "145      vegetarian         10         25             -1  main course   \n",
       "146      vegetarian         10         20             -1  main course   \n",
       "150      vegetarian         10         20             -1  main course   \n",
       "153      vegetarian         10         20             -1  main course   \n",
       "155      vegetarian        495         40             -1  main course   \n",
       "157      vegetarian        120         60             -1  main course   \n",
       "158      vegetarian        120         30             -1  main course   \n",
       "159      vegetarian         10         20             -1  main course   \n",
       "160      vegetarian         15         20             -1  main course   \n",
       "171      vegetarian         20         25             -1  main course   \n",
       "176      vegetarian         20         30             -1  main course   \n",
       "179      vegetarian         30         30             -1        snack   \n",
       "180      vegetarian          5         20             -1  main course   \n",
       "189      vegetarian         10         40             -1  main course   \n",
       "216      vegetarian         -1         -1             -1        snack   \n",
       "222      vegetarian         10         20             -1  main course   \n",
       "224      vegetarian         20         30             -1  main course   \n",
       "227      vegetarian         -1         -1             -1  main course   \n",
       "228  non vegetarian         10         20             -1  main course   \n",
       "229  non vegetarian         -1         -1             -1  main course   \n",
       "231      vegetarian         15         25             -1  main course   \n",
       "236  non vegetarian         15         30             -1  main course   \n",
       "244      vegetarian         -1         -1             -1  main course   \n",
       "245      vegetarian         10         20             -1  main course   \n",
       "248      vegetarian         -1         -1             -1  main course   \n",
       "\n",
       "           state      region  \n",
       "78   Maharashtra        West  \n",
       "104       Punjab       North  \n",
       "116       Punjab       North  \n",
       "131       Kerala       South  \n",
       "145   All States       South  \n",
       "146   Tamil Nadu       South  \n",
       "150   Tamil Nadu       South  \n",
       "153   Tamil Nadu       South  \n",
       "155       Kerala       South  \n",
       "157    Karnataka       South  \n",
       "158   All States       South  \n",
       "159   Tamil Nadu       South  \n",
       "160       Kerala       South  \n",
       "171  Maharashtra        West  \n",
       "176      Gujarat        West  \n",
       "179  Maharashtra        West  \n",
       "180  Maharashtra        West  \n",
       "189      Gujarat        West  \n",
       "216      Gujarat        West  \n",
       "222        Assam  North East  \n",
       "224  West Bengal        East  \n",
       "227        Assam  North East  \n",
       "228        Assam  North East  \n",
       "229      Manipur  North East  \n",
       "231   All States  All region  \n",
       "236  West Bengal        East  \n",
       "244       Odisha        East  \n",
       "245        Assam  North East  \n",
       "248   All States  All region  "
      ]
     },
     "execution_count": 21,
     "metadata": {},
     "output_type": "execute_result"
    }
   ],
   "source": [
    "data.loc[data['flavor_profile']=='-1',]"
   ]
  },
  {
   "cell_type": "markdown",
   "metadata": {},
   "source": [
    "Based on the ingredients used for the dish and based on my taste of that dish,I have tried to map the flavor_profile for the missing dishes.Pls let me know in the comments if incase I have mapped the flavors wrongly."
   ]
  },
  {
   "cell_type": "code",
   "execution_count": 8,
   "metadata": {},
   "outputs": [],
   "source": [
    "flavor_dict={'Chapati':'sweet',\n",
    "'Naan':'sweet',\n",
    "'Rongi':'sweet',\n",
    "'Kanji':'sweet',\n",
    "'Pachadi':'sweet',\n",
    "'Paniyaram':'sweet',\n",
    "'Paruppu sadam':'sour',\n",
    "'Puli sadam':'sour',\n",
    "'Puttu':'sweet',\n",
    "'Sandige':'sweet',\n",
    "'Sevai':'sweet',\n",
    "'Thayir sadam':'sour',\n",
    "'Theeyal':'spicy',\n",
    "'Bhakri':'sweet',\n",
    "'Copra paak':'sweet',\n",
    "'Dahi vada':'sweet',\n",
    "'Dalithoy':'spicy',\n",
    "'Kansar':'sweet',\n",
    "'Farsi Puri':'spicy',\n",
    "'Khar':'sweet',\n",
    "'Luchi':'sweet',\n",
    "'Bengena Pitika':'sweet',\n",
    "'Bilahi Maas':'sweet',\n",
    "'Black rice':'sour',\n",
    "'Brown Rice':'sweet',\n",
    "'Chingri Bhape':'sweet',\n",
    "'Pakhala':'spicy',\n",
    "'Pani Pitha':'sweet',\n",
    "'Red Rice':'spicy'}"
   ]
  },
  {
   "cell_type": "code",
   "execution_count": 9,
   "metadata": {},
   "outputs": [
    {
     "name": "stdout",
     "output_type": "stream",
     "text": [
      "Assigning flavor profile for Chapati\n",
      "Assigning flavor profile for Naan\n",
      "Assigning flavor profile for Rongi\n",
      "Assigning flavor profile for Kanji\n",
      "Assigning flavor profile for Pachadi\n",
      "Assigning flavor profile for Paniyaram\n",
      "Assigning flavor profile for Paruppu sadam\n",
      "Assigning flavor profile for Puli sadam\n",
      "Assigning flavor profile for Puttu\n",
      "Assigning flavor profile for Sandige\n",
      "Assigning flavor profile for Sevai\n",
      "Assigning flavor profile for Thayir sadam\n",
      "Assigning flavor profile for Theeyal\n",
      "Assigning flavor profile for Bhakri\n",
      "Assigning flavor profile for Copra paak\n",
      "Assigning flavor profile for Dahi vada\n",
      "Assigning flavor profile for Dalithoy\n",
      "Assigning flavor profile for Kansar\n",
      "Assigning flavor profile for Farsi Puri\n",
      "Assigning flavor profile for Khar\n",
      "Assigning flavor profile for Luchi\n",
      "Assigning flavor profile for Bengena Pitika\n",
      "Assigning flavor profile for Bilahi Maas\n",
      "Assigning flavor profile for Black rice\n",
      "Assigning flavor profile for Brown Rice\n",
      "Assigning flavor profile for Chingri Bhape\n",
      "Assigning flavor profile for Pakhala\n",
      "Assigning flavor profile for Pani Pitha\n",
      "Assigning flavor profile for Red Rice\n"
     ]
    }
   ],
   "source": [
    "## Using a loop to change the values.I think there will be a better way to do this !!\n",
    "for c in data.loc[data['flavor_profile']=='-1',['name','flavor_profile']]['name']:\n",
    "    print(f'Assigning flavor profile for {c}')\n",
    "    data.loc[data['name']==c,'flavor_profile']=flavor_dict[c]"
   ]
  },
  {
   "cell_type": "code",
   "execution_count": 49,
   "metadata": {},
   "outputs": [
    {
     "name": "stdout",
     "output_type": "stream",
     "text": [
      "Total Missing values in column name is 0\n",
      "Total Missing values in column ingredients is 0\n",
      "Total Missing values in column diet is 0\n",
      "Total Missing values in column prep_time is 30\n",
      "Total Missing values in column cook_time is 28\n",
      "Total Missing values in column flavor_profile is 0\n",
      "Total Missing values in column course is 0\n",
      "Total Missing values in column state is 0\n",
      "Total Missing values in column region is 0\n"
     ]
    }
   ],
   "source": [
    "##Now lets check again,\n",
    "for c in data.columns:\n",
    "    print(f'''Total Missing values in column {c} is {len(data[data[c]=='-1'])}''')"
   ]
  },
  {
   "cell_type": "markdown",
   "metadata": {},
   "source": [
    "Now we have to impute for prep time and cook time.For simplicity purpose,let us impute a default value based on whether the dish is veg or non-veg.For vegetarian dish I assume a default value of 10 minutes for prep and cook time and for nonvegetarian I assume this as 20 minutes."
   ]
  },
  {
   "cell_type": "code",
   "execution_count": 10,
   "metadata": {},
   "outputs": [],
   "source": [
    "## Prep time and Cook time,\n",
    "data.loc[(data['prep_time']==-1) & (data['diet']=='vegetarian'),'prep_time']=10\n",
    "data.loc[(data['cook_time']==-1) & (data['diet']=='vegetarian'),'cook_time']=10\n",
    "data.loc[(data['prep_time']==-1) & (data['diet']=='non vegetarian'),'prep_time']=20\n",
    "data.loc[(data['cook_time']==-1) & (data['diet']=='non vegetarian'),'cook_time']=20"
   ]
  },
  {
   "cell_type": "markdown",
   "metadata": {},
   "source": [
    "Now that we have handled missing values,lets begin our analysis.First let us get a birds eye view of all the columns."
   ]
  },
  {
   "cell_type": "markdown",
   "metadata": {},
   "source": [
    "### Data Analysis"
   ]
  },
  {
   "cell_type": "code",
   "execution_count": 45,
   "metadata": {},
   "outputs": [
    {
     "name": "stdout",
     "output_type": "stream",
     "text": [
      "There are 255 dishes \n"
     ]
    }
   ],
   "source": [
    "##How many dishes ?\n",
    "print(f'''There are {data['name'].nunique()} dishes ''')"
   ]
  },
  {
   "cell_type": "code",
   "execution_count": 48,
   "metadata": {},
   "outputs": [
    {
     "data": {
      "text/plain": [
       "vegetarian        88.627451\n",
       "non vegetarian    11.372549\n",
       "Name: diet, dtype: float64"
      ]
     },
     "execution_count": 48,
     "metadata": {},
     "output_type": "execute_result"
    }
   ],
   "source": [
    "(data['diet'].value_counts()/data['name'].nunique())*100"
   ]
  },
  {
   "cell_type": "markdown",
   "metadata": {},
   "source": [
    "88 % of the dishes are vegeratian where as 11 % are non vegetarian."
   ]
  },
  {
   "cell_type": "code",
   "execution_count": 44,
   "metadata": {},
   "outputs": [
    {
     "data": {
      "text/plain": [
       "main course    50.588235\n",
       "dessert        33.333333\n",
       "snack          15.294118\n",
       "starter         0.784314\n",
       "Name: course, dtype: float64"
      ]
     },
     "execution_count": 44,
     "metadata": {},
     "output_type": "execute_result"
    }
   ],
   "source": [
    "(data['course'].value_counts()/data['name'].nunique())*100"
   ]
  },
  {
   "cell_type": "markdown",
   "metadata": {},
   "source": [
    "50 % of the dishes are for main course where as 33 % are dessert type."
   ]
  },
  {
   "cell_type": "code",
   "execution_count": 45,
   "metadata": {},
   "outputs": [
    {
     "data": {
      "text/plain": [
       "spicy     54.117647\n",
       "sweet     42.352941\n",
       "sour       1.960784\n",
       "bitter     1.568627\n",
       "Name: flavor_profile, dtype: float64"
      ]
     },
     "execution_count": 45,
     "metadata": {},
     "output_type": "execute_result"
    }
   ],
   "source": [
    "(data['flavor_profile'].value_counts()/data['name'].nunique())*100"
   ]
  },
  {
   "cell_type": "markdown",
   "metadata": {},
   "source": [
    "More than 50 % are spicy dishes where as 42 % are sweet."
   ]
  },
  {
   "cell_type": "markdown",
   "metadata": {},
   "source": [
    "### Prep Time vs cook time"
   ]
  },
  {
   "cell_type": "markdown",
   "metadata": {},
   "source": [
    "* Prep time is the time taken to prepare the ingredients prior to cooking- like mixing,washing,stirring etc.\n",
    "\n",
    "* Cook time is the actual time taken for the dish to cook.\n",
    "\n",
    "Here it is assumed that the prep time and cook time are provided in minutes.(or is it in seconds ?? Lets find out)"
   ]
  },
  {
   "cell_type": "code",
   "execution_count": 11,
   "metadata": {},
   "outputs": [
    {
     "data": {
      "text/plain": [
       "Text(0, 0.5, 'Frequency')"
      ]
     },
     "execution_count": 11,
     "metadata": {},
     "output_type": "execute_result"
    },
    {
     "data": {
      "image/png": "[encoded data removed]",
      "text/plain": [
       "<Figure size 1080x576 with 2 Axes>"
      ]
     },
     "metadata": {
      "needs_background": "light"
     },
     "output_type": "display_data"
    }
   ],
   "source": [
    "plt.figure(figsize=(15,8))\n",
    "plt.subplot(1,2,1)\n",
    "sns.distplot(data['prep_time'],color='red')\n",
    "plt.title('Preparation time distribution')\n",
    "plt.xlabel('Preparation Time')\n",
    "plt.ylabel('Frequency')\n",
    "plt.subplot(1,2,2)\n",
    "sns.distplot(data['cook_time'],color='blue')\n",
    "plt.title('Cooking time distribution')\n",
    "plt.xlabel('Cooking Time')\n",
    "plt.ylabel('Frequency')"
   ]
  },
  {
   "cell_type": "markdown",
   "metadata": {},
   "source": [
    "* Most of the dishes have preparation time less than 100 minutes.(~ 1.5 hrs).There are a few dishes for which the preparation time takes more than 500 minutes (~8 hrs).\n",
    "* The peak in cooking time is between 0-100 minutes and there is a slight peak near 700 minutes(~11 hrs).\n",
    "\n",
    "This historgram will not provide a difference between vegetarian and non-vegetarian dishes.Also,we should consider the total time taken for the recipe."
   ]
  },
  {
   "cell_type": "code",
   "execution_count": 15,
   "metadata": {},
   "outputs": [],
   "source": [
    "data['total_time']=data['prep_time']+data['cook_time']"
   ]
  },
  {
   "cell_type": "code",
   "execution_count": 17,
   "metadata": {},
   "outputs": [
    {
     "data": {
      "text/plain": [
       "Text(0, 0.5, 'Total Time')"
      ]
     },
     "execution_count": 17,
     "metadata": {},
     "output_type": "execute_result"
    },
    {
     "data": {
      "image/png": "[encoded data removed]",
      "text/plain": [
       "<Figure size 576x576 with 1 Axes>"
      ]
     },
     "metadata": {
      "needs_background": "light"
     },
     "output_type": "display_data"
    }
   ],
   "source": [
    "plt.figure(figsize=(8,8))\n",
    "sns.boxplot(x='diet',y='total_time',data=data,palette=sns.color_palette('colorblind'))\n",
    "plt.title('Total Time taken for a dish by diet',fontsize=15)\n",
    "plt.xlabel('Diet preference',fontsize=8)\n",
    "plt.ylabel('Total Time',fontsize=8)"
   ]
  },
  {
   "cell_type": "markdown",
   "metadata": {},
   "source": [
    "It is seen that the total time taken to cook for vegetarian dishes is higher than non-vegetarian dishes.But this cant be generalized since ~88 % of the data is represented by vegeratian dishes and we cant conclude basis the preparation time of only ~11 % of the non-vegetarian dishes."
   ]
  },
  {
   "cell_type": "code",
   "execution_count": 18,
   "metadata": {},
   "outputs": [
    {
     "data": {
      "text/html": [
       "<div>\n",
       "<style scoped>\n",
       "    .dataframe tbody tr th:only-of-type {\n",
       "        vertical-align: middle;\n",
       "    }\n",
       "\n",
       "    .dataframe tbody tr th {\n",
       "        vertical-align: top;\n",
       "    }\n",
       "\n",
       "    .dataframe thead th {\n",
       "        text-align: right;\n",
       "    }\n",
       "</style>\n",
       "<table border=\"1\" class=\"dataframe\">\n",
       "  <thead>\n",
       "    <tr style=\"text-align: right;\">\n",
       "      <th></th>\n",
       "      <th>name</th>\n",
       "      <th>ingredients</th>\n",
       "      <th>diet</th>\n",
       "      <th>prep_time</th>\n",
       "      <th>cook_time</th>\n",
       "      <th>flavor_profile</th>\n",
       "      <th>course</th>\n",
       "      <th>state</th>\n",
       "      <th>region</th>\n",
       "      <th>total_time</th>\n",
       "    </tr>\n",
       "  </thead>\n",
       "  <tbody>\n",
       "    <tr>\n",
       "      <th>29</th>\n",
       "      <td>Misti doi</td>\n",
       "      <td>Milk, jaggery</td>\n",
       "      <td>vegetarian</td>\n",
       "      <td>480</td>\n",
       "      <td>30</td>\n",
       "      <td>sweet</td>\n",
       "      <td>dessert</td>\n",
       "      <td>West Bengal</td>\n",
       "      <td>East</td>\n",
       "      <td>510</td>\n",
       "    </tr>\n",
       "    <tr>\n",
       "      <th>62</th>\n",
       "      <td>Shrikhand</td>\n",
       "      <td>Curd, sugar, saffron, cardamom</td>\n",
       "      <td>vegetarian</td>\n",
       "      <td>10</td>\n",
       "      <td>720</td>\n",
       "      <td>sweet</td>\n",
       "      <td>dessert</td>\n",
       "      <td>Maharashtra</td>\n",
       "      <td>West</td>\n",
       "      <td>730</td>\n",
       "    </tr>\n",
       "    <tr>\n",
       "      <th>114</th>\n",
       "      <td>Pindi chana</td>\n",
       "      <td>Fennel, tea bags, tomato, kasuri methi, cinnamon</td>\n",
       "      <td>vegetarian</td>\n",
       "      <td>500</td>\n",
       "      <td>120</td>\n",
       "      <td>spicy</td>\n",
       "      <td>main course</td>\n",
       "      <td>Punjab</td>\n",
       "      <td>North</td>\n",
       "      <td>620</td>\n",
       "    </tr>\n",
       "    <tr>\n",
       "      <th>128</th>\n",
       "      <td>Dosa</td>\n",
       "      <td>Chana dal, urad dal, whole urad dal, blend ric...</td>\n",
       "      <td>vegetarian</td>\n",
       "      <td>360</td>\n",
       "      <td>90</td>\n",
       "      <td>spicy</td>\n",
       "      <td>snack</td>\n",
       "      <td>All States</td>\n",
       "      <td>South</td>\n",
       "      <td>450</td>\n",
       "    </tr>\n",
       "    <tr>\n",
       "      <th>130</th>\n",
       "      <td>Idli</td>\n",
       "      <td>Split urad dal, urad dal, idli rice, thick poh...</td>\n",
       "      <td>vegetarian</td>\n",
       "      <td>360</td>\n",
       "      <td>90</td>\n",
       "      <td>spicy</td>\n",
       "      <td>snack</td>\n",
       "      <td>All States</td>\n",
       "      <td>South</td>\n",
       "      <td>450</td>\n",
       "    </tr>\n",
       "    <tr>\n",
       "      <th>144</th>\n",
       "      <td>Masala Dosa</td>\n",
       "      <td>Chana dal, urad dal, potatoes, idli rice, thic...</td>\n",
       "      <td>vegetarian</td>\n",
       "      <td>360</td>\n",
       "      <td>90</td>\n",
       "      <td>spicy</td>\n",
       "      <td>snack</td>\n",
       "      <td>All States</td>\n",
       "      <td>South</td>\n",
       "      <td>450</td>\n",
       "    </tr>\n",
       "    <tr>\n",
       "      <th>155</th>\n",
       "      <td>Puttu</td>\n",
       "      <td>Brown rice flour, sugar, grated coconut</td>\n",
       "      <td>vegetarian</td>\n",
       "      <td>495</td>\n",
       "      <td>40</td>\n",
       "      <td>sweet</td>\n",
       "      <td>main course</td>\n",
       "      <td>Kerala</td>\n",
       "      <td>South</td>\n",
       "      <td>535</td>\n",
       "    </tr>\n",
       "  </tbody>\n",
       "</table>\n",
       "</div>"
      ],
      "text/plain": [
       "            name                                        ingredients  \\\n",
       "29     Misti doi                                      Milk, jaggery   \n",
       "62     Shrikhand                     Curd, sugar, saffron, cardamom   \n",
       "114  Pindi chana   Fennel, tea bags, tomato, kasuri methi, cinnamon   \n",
       "128         Dosa  Chana dal, urad dal, whole urad dal, blend ric...   \n",
       "130         Idli  Split urad dal, urad dal, idli rice, thick poh...   \n",
       "144  Masala Dosa  Chana dal, urad dal, potatoes, idli rice, thic...   \n",
       "155        Puttu            Brown rice flour, sugar, grated coconut   \n",
       "\n",
       "           diet  prep_time  cook_time flavor_profile       course  \\\n",
       "29   vegetarian        480         30          sweet      dessert   \n",
       "62   vegetarian         10        720          sweet      dessert   \n",
       "114  vegetarian        500        120          spicy  main course   \n",
       "128  vegetarian        360         90          spicy        snack   \n",
       "130  vegetarian        360         90          spicy        snack   \n",
       "144  vegetarian        360         90          spicy        snack   \n",
       "155  vegetarian        495         40          sweet  main course   \n",
       "\n",
       "           state region  total_time  \n",
       "29   West Bengal   East         510  \n",
       "62   Maharashtra   West         730  \n",
       "114       Punjab  North         620  \n",
       "128   All States  South         450  \n",
       "130   All States  South         450  \n",
       "144   All States  South         450  \n",
       "155       Kerala  South         535  "
      ]
     },
     "execution_count": 18,
     "metadata": {},
     "output_type": "execute_result"
    }
   ],
   "source": [
    "## Dishes with total time > 400 minutes:\n",
    "data.loc[data['total_time']>=400,]"
   ]
  },
  {
   "cell_type": "markdown",
   "metadata": {},
   "source": [
    "Hmm,Our assumption that the prep time and cook time are in minutes turned out to be wrong.Because,I dont think preparation time for Dosa,Idli will take more than 5 hrs.More clarity is required on these two columns inorder to investigate further."
   ]
  },
  {
   "cell_type": "markdown",
   "metadata": {},
   "source": [
    "### Ingredients"
   ]
  },
  {
   "cell_type": "code",
   "execution_count": 36,
   "metadata": {},
   "outputs": [],
   "source": [
    "##total ingredients required:\n",
    "data['total_ingredients']=data['ingredients'].apply(lambda x:len(set(x.split())))"
   ]
  },
  {
   "cell_type": "code",
   "execution_count": 37,
   "metadata": {},
   "outputs": [
    {
     "data": {
      "text/plain": [
       "count    255.000000\n",
       "mean       7.058824\n",
       "std        2.381125\n",
       "min        2.000000\n",
       "25%        6.000000\n",
       "50%        7.000000\n",
       "75%        9.000000\n",
       "max       12.000000\n",
       "Name: total_ingredients, dtype: float64"
      ]
     },
     "execution_count": 37,
     "metadata": {},
     "output_type": "execute_result"
    }
   ],
   "source": [
    "data['total_ingredients'].describe()"
   ]
  },
  {
   "cell_type": "markdown",
   "metadata": {},
   "source": [
    "Maximum ingredients required for a dish in this datase is 12 and minumum ingredients is 2.Lets check the dishes."
   ]
  },
  {
   "cell_type": "code",
   "execution_count": 39,
   "metadata": {},
   "outputs": [
    {
     "data": {
      "text/html": [
       "<div>\n",
       "<style scoped>\n",
       "    .dataframe tbody tr th:only-of-type {\n",
       "        vertical-align: middle;\n",
       "    }\n",
       "\n",
       "    .dataframe tbody tr th {\n",
       "        vertical-align: top;\n",
       "    }\n",
       "\n",
       "    .dataframe thead th {\n",
       "        text-align: right;\n",
       "    }\n",
       "</style>\n",
       "<table border=\"1\" class=\"dataframe\">\n",
       "  <thead>\n",
       "    <tr style=\"text-align: right;\">\n",
       "      <th></th>\n",
       "      <th>name</th>\n",
       "      <th>ingredients</th>\n",
       "      <th>diet</th>\n",
       "      <th>prep_time</th>\n",
       "      <th>cook_time</th>\n",
       "      <th>flavor_profile</th>\n",
       "      <th>course</th>\n",
       "      <th>state</th>\n",
       "      <th>region</th>\n",
       "      <th>total_time</th>\n",
       "      <th>total_ingredients</th>\n",
       "    </tr>\n",
       "  </thead>\n",
       "  <tbody>\n",
       "    <tr>\n",
       "      <th>3</th>\n",
       "      <td>Ghevar</td>\n",
       "      <td>Flour, ghee, kewra, milk, clarified butter, su...</td>\n",
       "      <td>vegetarian</td>\n",
       "      <td>15</td>\n",
       "      <td>30</td>\n",
       "      <td>sweet</td>\n",
       "      <td>dessert</td>\n",
       "      <td>Rajasthan</td>\n",
       "      <td>West</td>\n",
       "      <td>45</td>\n",
       "      <td>12</td>\n",
       "    </tr>\n",
       "    <tr>\n",
       "      <th>45</th>\n",
       "      <td>Mysore pak</td>\n",
       "      <td>Besan flour, semolina, mung bean, jaggery, coc...</td>\n",
       "      <td>vegetarian</td>\n",
       "      <td>5</td>\n",
       "      <td>20</td>\n",
       "      <td>sweet</td>\n",
       "      <td>dessert</td>\n",
       "      <td>Karnataka</td>\n",
       "      <td>South</td>\n",
       "      <td>25</td>\n",
       "      <td>12</td>\n",
       "    </tr>\n",
       "  </tbody>\n",
       "</table>\n",
       "</div>"
      ],
      "text/plain": [
       "          name                                        ingredients        diet  \\\n",
       "3       Ghevar  Flour, ghee, kewra, milk, clarified butter, su...  vegetarian   \n",
       "45  Mysore pak  Besan flour, semolina, mung bean, jaggery, coc...  vegetarian   \n",
       "\n",
       "    prep_time  cook_time flavor_profile   course      state region  \\\n",
       "3          15         30          sweet  dessert  Rajasthan   West   \n",
       "45          5         20          sweet  dessert  Karnataka  South   \n",
       "\n",
       "    total_time  total_ingredients  \n",
       "3           45                 12  \n",
       "45          25                 12  "
      ]
     },
     "execution_count": 39,
     "metadata": {},
     "output_type": "execute_result"
    }
   ],
   "source": [
    "data.loc[data['total_ingredients']==12,]"
   ]
  },
  {
   "cell_type": "code",
   "execution_count": 40,
   "metadata": {},
   "outputs": [
    {
     "data": {
      "text/html": [
       "<div>\n",
       "<style scoped>\n",
       "    .dataframe tbody tr th:only-of-type {\n",
       "        vertical-align: middle;\n",
       "    }\n",
       "\n",
       "    .dataframe tbody tr th {\n",
       "        vertical-align: top;\n",
       "    }\n",
       "\n",
       "    .dataframe thead th {\n",
       "        text-align: right;\n",
       "    }\n",
       "</style>\n",
       "<table border=\"1\" class=\"dataframe\">\n",
       "  <thead>\n",
       "    <tr style=\"text-align: right;\">\n",
       "      <th></th>\n",
       "      <th>name</th>\n",
       "      <th>ingredients</th>\n",
       "      <th>diet</th>\n",
       "      <th>prep_time</th>\n",
       "      <th>cook_time</th>\n",
       "      <th>flavor_profile</th>\n",
       "      <th>course</th>\n",
       "      <th>state</th>\n",
       "      <th>region</th>\n",
       "      <th>total_time</th>\n",
       "      <th>total_ingredients</th>\n",
       "    </tr>\n",
       "  </thead>\n",
       "  <tbody>\n",
       "    <tr>\n",
       "      <th>29</th>\n",
       "      <td>Misti doi</td>\n",
       "      <td>Milk, jaggery</td>\n",
       "      <td>vegetarian</td>\n",
       "      <td>480</td>\n",
       "      <td>30</td>\n",
       "      <td>sweet</td>\n",
       "      <td>dessert</td>\n",
       "      <td>West Bengal</td>\n",
       "      <td>East</td>\n",
       "      <td>510</td>\n",
       "      <td>2</td>\n",
       "    </tr>\n",
       "    <tr>\n",
       "      <th>39</th>\n",
       "      <td>Chikki</td>\n",
       "      <td>Peanuts, jaggery</td>\n",
       "      <td>vegetarian</td>\n",
       "      <td>10</td>\n",
       "      <td>20</td>\n",
       "      <td>sweet</td>\n",
       "      <td>dessert</td>\n",
       "      <td>Maharashtra</td>\n",
       "      <td>West</td>\n",
       "      <td>30</td>\n",
       "      <td>2</td>\n",
       "    </tr>\n",
       "    <tr>\n",
       "      <th>57</th>\n",
       "      <td>Dhondas</td>\n",
       "      <td>Cucumber, rava</td>\n",
       "      <td>vegetarian</td>\n",
       "      <td>10</td>\n",
       "      <td>50</td>\n",
       "      <td>sweet</td>\n",
       "      <td>dessert</td>\n",
       "      <td>Maharashtra</td>\n",
       "      <td>West</td>\n",
       "      <td>60</td>\n",
       "      <td>2</td>\n",
       "    </tr>\n",
       "    <tr>\n",
       "      <th>59</th>\n",
       "      <td>Mahim halwa</td>\n",
       "      <td>Semolina, sugar</td>\n",
       "      <td>vegetarian</td>\n",
       "      <td>10</td>\n",
       "      <td>25</td>\n",
       "      <td>sweet</td>\n",
       "      <td>dessert</td>\n",
       "      <td>Maharashtra</td>\n",
       "      <td>West</td>\n",
       "      <td>35</td>\n",
       "      <td>2</td>\n",
       "    </tr>\n",
       "    <tr>\n",
       "      <th>190</th>\n",
       "      <td>Keri no ras</td>\n",
       "      <td>Mango, sugar</td>\n",
       "      <td>vegetarian</td>\n",
       "      <td>10</td>\n",
       "      <td>10</td>\n",
       "      <td>sour</td>\n",
       "      <td>main course</td>\n",
       "      <td>Gujarat</td>\n",
       "      <td>West</td>\n",
       "      <td>20</td>\n",
       "      <td>2</td>\n",
       "    </tr>\n",
       "    <tr>\n",
       "      <th>234</th>\n",
       "      <td>Hando Guri</td>\n",
       "      <td>Jaggery, raisins</td>\n",
       "      <td>vegetarian</td>\n",
       "      <td>10</td>\n",
       "      <td>10</td>\n",
       "      <td>sweet</td>\n",
       "      <td>dessert</td>\n",
       "      <td>Assam</td>\n",
       "      <td>North East</td>\n",
       "      <td>20</td>\n",
       "      <td>2</td>\n",
       "    </tr>\n",
       "  </tbody>\n",
       "</table>\n",
       "</div>"
      ],
      "text/plain": [
       "            name       ingredients        diet  prep_time  cook_time  \\\n",
       "29     Misti doi     Milk, jaggery  vegetarian        480         30   \n",
       "39        Chikki  Peanuts, jaggery  vegetarian         10         20   \n",
       "57       Dhondas    Cucumber, rava  vegetarian         10         50   \n",
       "59   Mahim halwa   Semolina, sugar  vegetarian         10         25   \n",
       "190  Keri no ras      Mango, sugar  vegetarian         10         10   \n",
       "234   Hando Guri  Jaggery, raisins  vegetarian         10         10   \n",
       "\n",
       "    flavor_profile       course        state      region  total_time  \\\n",
       "29           sweet      dessert  West Bengal        East         510   \n",
       "39           sweet      dessert  Maharashtra        West          30   \n",
       "57           sweet      dessert  Maharashtra        West          60   \n",
       "59           sweet      dessert  Maharashtra        West          35   \n",
       "190           sour  main course      Gujarat        West          20   \n",
       "234          sweet      dessert        Assam  North East          20   \n",
       "\n",
       "     total_ingredients  \n",
       "29                   2  \n",
       "39                   2  \n",
       "57                   2  \n",
       "59                   2  \n",
       "190                  2  \n",
       "234                  2  "
      ]
     },
     "execution_count": 40,
     "metadata": {},
     "output_type": "execute_result"
    }
   ],
   "source": [
    "data.loc[data['total_ingredients']==2,]"
   ]
  },
  {
   "cell_type": "markdown",
   "metadata": {},
   "source": [
    "* 2 dishes - Ghevar , an Rajasthani dessert and Mysore Pak ,another dessert from Karnataka require the maximum ingredients to prepare.\n",
    "\n",
    "* 6 dishes - 5 from dessert and 1 main course require 2 ingredients.\n",
    "\n",
    "It is interesting to note that dishes with require maximum as well as the least dishes being to dessert type except for 1 dish.\n",
    "\n",
    "Lets check the total ingredients by course,flavor_profile and diet."
   ]
  },
  {
   "cell_type": "code",
   "execution_count": 51,
   "metadata": {},
   "outputs": [
    {
     "data": {
      "text/plain": [
       "Text(0, 0.5, 'Total Ingredients')"
      ]
     },
     "execution_count": 51,
     "metadata": {},
     "output_type": "execute_result"
    },
    {
     "data": {
      "image/png": "[encoded data removed]",
      "text/plain": [
       "<Figure size 1296x576 with 3 Axes>"
      ]
     },
     "metadata": {
      "needs_background": "light"
     },
     "output_type": "display_data"
    }
   ],
   "source": [
    "plt.figure(figsize=(18,8))\n",
    "plt.subplot(1,3,1)\n",
    "sns.boxplot(x='course',y='total_ingredients',data=data,palette=sns.color_palette('colorblind'))\n",
    "plt.title('Course vs total ingredients',fontsize=15)\n",
    "plt.xlabel('Course',fontsize=8)\n",
    "plt.ylabel('Total Ingredients',fontsize=8)\n",
    "plt.subplot(1,3,2)\n",
    "sns.boxplot(x='flavor_profile',y='total_ingredients',data=data,palette=sns.color_palette('colorblind'))\n",
    "plt.title('Flavor Profile vs total ingredients',fontsize=15)\n",
    "plt.xlabel('Flavor Profile',fontsize=8)\n",
    "plt.ylabel('Total Ingredients',fontsize=8)\n",
    "plt.subplot(1,3,3)\n",
    "sns.boxplot(x='diet',y='total_ingredients',data=data,palette=sns.color_palette('colorblind'))\n",
    "plt.title('Diet vs total ingredients',fontsize=15)\n",
    "plt.xlabel('Diet',fontsize=8)\n",
    "plt.ylabel('Total Ingredients',fontsize=8)"
   ]
  },
  {
   "cell_type": "markdown",
   "metadata": {},
   "source": [
    "* Though main course contribute to 50 % of the total dishes,the maximum total ingredients required is 11.\n",
    "\n",
    "* From the dishes provided in this dataset,it is seen that median ingredients for starters is more compared to other courses.\n",
    "\n",
    "* Though the maximum number of ingredients required to prepare a desset is 12 ,the median is lesser compared to other courses.Similarly for a sweet dish,the median is lower compared to other dishes whereas the maximum ingredients is the highest."
   ]
  },
  {
   "cell_type": "markdown",
   "metadata": {},
   "source": [
    "### Ingredients"
   ]
  },
  {
   "cell_type": "markdown",
   "metadata": {},
   "source": [
    "Lets create a user defined function to count the ingredients based on the flavor profile,diet."
   ]
  },
  {
   "cell_type": "code",
   "execution_count": 90,
   "metadata": {},
   "outputs": [],
   "source": [
    "def ingre_count(d):\n",
    "    foo=list(d['ingredients'].apply(lambda x:[i.strip() for i in x.split(',')]))\n",
    "    return Counter(i for j in foo for i  in j).most_common(5)"
   ]
  },
  {
   "cell_type": "markdown",
   "metadata": {},
   "source": [
    "What are the top 5 ingredients in Indian cusine ?"
   ]
  },
  {
   "cell_type": "code",
   "execution_count": 91,
   "metadata": {},
   "outputs": [
    {
     "data": {
      "text/plain": [
       "[('sugar', 44),\n",
       " ('ginger', 29),\n",
       " ('garam masala', 27),\n",
       " ('ghee', 25),\n",
       " ('curry leaves', 25)]"
      ]
     },
     "execution_count": 91,
     "metadata": {},
     "output_type": "execute_result"
    }
   ],
   "source": [
    "## top 10 ingredients in Indian cusine,\n",
    "ingre_count(data)"
   ]
  },
  {
   "cell_type": "markdown",
   "metadata": {},
   "source": [
    "What are the top 5 ingredients for preparing vegetarian and non-vegetarian dishes ?"
   ]
  },
  {
   "cell_type": "code",
   "execution_count": 92,
   "metadata": {},
   "outputs": [
    {
     "data": {
      "text/plain": [
       "[('sugar', 43),\n",
       " ('ghee', 25),\n",
       " ('curry leaves', 24),\n",
       " ('garam masala', 23),\n",
       " ('ginger', 23)]"
      ]
     },
     "execution_count": 92,
     "metadata": {},
     "output_type": "execute_result"
    }
   ],
   "source": [
    "## top 5 in vegetarian dishes,\n",
    "ingre_count(data.loc[data['diet']=='vegetarian',])"
   ]
  },
  {
   "cell_type": "code",
   "execution_count": 93,
   "metadata": {},
   "outputs": [
    {
     "data": {
      "text/plain": [
       "[('mustard oil', 7),\n",
       " ('ginger', 6),\n",
       " ('Chicken', 4),\n",
       " ('garam masala powder', 4),\n",
       " ('garam masala', 4)]"
      ]
     },
     "execution_count": 93,
     "metadata": {},
     "output_type": "execute_result"
    }
   ],
   "source": [
    "## top 5 in non-vegetarian dishes,\n",
    "ingre_count(data.loc[data['diet']=='non vegetarian',])"
   ]
  },
  {
   "cell_type": "markdown",
   "metadata": {},
   "source": [
    "43 vegetarian dishes available in this dataset are prepared using sugar and ghee where as non-vegeratian dishes represented 11 % in the dataset have mustard oil,ginger as common ingredient."
   ]
  },
  {
   "cell_type": "code",
   "execution_count": 95,
   "metadata": {},
   "outputs": [
    {
     "data": {
      "text/plain": [
       "[('ginger', 26),\n",
       " ('garam masala', 24),\n",
       " ('curry leaves', 19),\n",
       " ('urad dal', 16),\n",
       " ('tomato', 13)]"
      ]
     },
     "execution_count": 95,
     "metadata": {},
     "output_type": "execute_result"
    }
   ],
   "source": [
    "### top 5 in spicy dishes\n",
    "ingre_count(data.loc[data['flavor_profile']=='spicy',])"
   ]
  },
  {
   "cell_type": "code",
   "execution_count": 96,
   "metadata": {},
   "outputs": [
    {
     "data": {
      "text/plain": [
       "[('sugar', 37),\n",
       " ('ghee', 25),\n",
       " ('jaggery', 15),\n",
       " ('milk', 14),\n",
       " ('Rice flour', 10)]"
      ]
     },
     "execution_count": 96,
     "metadata": {},
     "output_type": "execute_result"
    }
   ],
   "source": [
    "### top 5 in sweet dishes\n",
    "ingre_count(data.loc[data['flavor_profile']=='sweet',])"
   ]
  },
  {
   "cell_type": "code",
   "execution_count": 97,
   "metadata": {},
   "outputs": [
    {
     "data": {
      "text/plain": [
       "[('curry leaves', 3),\n",
       " ('Urad dal', 2),\n",
       " ('Arhar dal', 1),\n",
       " ('sambar powder', 1),\n",
       " ('tomato', 1)]"
      ]
     },
     "execution_count": 97,
     "metadata": {},
     "output_type": "execute_result"
    }
   ],
   "source": [
    "### top 5 in sour dishes\n",
    "ingre_count(data.loc[data['flavor_profile']=='sour',])"
   ]
  },
  {
   "cell_type": "code",
   "execution_count": 98,
   "metadata": {},
   "outputs": [
    {
     "data": {
      "text/plain": [
       "[('fenugreek leaves', 2),\n",
       " ('Potato', 1),\n",
       " ('chillies', 1),\n",
       " ('salt', 1),\n",
       " ('oil', 1)]"
      ]
     },
     "execution_count": 98,
     "metadata": {},
     "output_type": "execute_result"
    }
   ],
   "source": [
    "### top 5 in bitter dishes\n",
    "ingre_count(data.loc[data['flavor_profile']=='bitter',])"
   ]
  },
  {
   "cell_type": "markdown",
   "metadata": {},
   "source": [
    "The analysis of ingredients by flavor profile is not surprising since they are made of items which gives the flavor."
   ]
  },
  {
   "cell_type": "markdown",
   "metadata": {},
   "source": [
    "## Conclusion"
   ]
  },
  {
   "cell_type": "markdown",
   "metadata": {},
   "source": [
    "In this short analysis,we have tried to explore different aspects of Indian dishes.\n",
    "\n",
    "* There were 255 dishes which were made available of which 88 % of them were vegetarian and ~50 % of the total dishes were for the main course , ~ 54 % of the total dishes were spicy flavor.\n",
    "\n",
    "* Total ingredients required for cooking ranged between 2 to 12 with Ghevar and Mysore Pak both of sweet flavor and a dessert requiring maximum ingredients whereas there were another 5 dishes of dessert type that require only 2 ingredients to prepare the dish.\n",
    "\n",
    "* While the most common ingredient among the 255 dishes were sugar,ginger,garam masala and ghee -sugar and ghee was more used for the vegetarian dishes while mustard oil was used for non-vegetarian dishes.Since the percentage representation of non-vegetarian dishes is only 11 % we could not strongly conclude anything about them.\n"
   ]
  },
  {
   "cell_type": "markdown",
   "metadata": {},
   "source": [
    "## What can be done further ?"
   ]
  },
  {
   "cell_type": "markdown",
   "metadata": {},
   "source": [
    "* We have noted in our analysis that the preparation and cooking time was more for certain dishes which would not normally take that many hours.After getting more clarity on those columns,an analysis could be done on the same.\n",
    "\n",
    "* The ingredients column can be cleaned since a quick look at the column indicates that there are few items which could be grouped - like Urad dal ,urad dal are indicated as two separate items whereas we know it is the same."
   ]
  }
 ],
 "metadata": {
  "kernelspec": {
   "display_name": "Python 3",
   "language": "python",
   "name": "python3"
  },
  "language_info": {
   "codemirror_mode": {
    "name": "ipython",
    "version": 3
   },
   "file_extension": ".py",
   "mimetype": "text/x-python",
   "name": "python",
   "nbconvert_exporter": "python",
   "pygments_lexer": "ipython3",
   "version": "3.7.6"
  }
 },
 "nbformat": 4,
 "nbformat_minor": 4
}
